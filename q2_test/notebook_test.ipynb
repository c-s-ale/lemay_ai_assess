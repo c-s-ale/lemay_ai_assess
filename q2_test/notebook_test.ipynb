{
 "cells": [
  {
   "cell_type": "markdown",
   "metadata": {},
   "source": [
    "### Sample Requests:\n",
    "\n",
    "This notebook should test the ability of the server to accept and process multiple requests at a time."
   ]
  },
  {
   "cell_type": "code",
   "execution_count": 1,
   "metadata": {},
   "outputs": [],
   "source": [
    "import asyncio\n",
    "import aiohttp\n",
    "import time"
   ]
  },
  {
   "cell_type": "code",
   "execution_count": 2,
   "metadata": {},
   "outputs": [],
   "source": [
    "URL = \"http://0.0.0.0:80/translate/en_to_fr/\"\n",
    "\n",
    "texts_to_test = [\n",
    "    \"This is a test of the translate model.\",\n",
    "    \"Various educators teach rules governing the length of paragraphs. They may say that a paragraph should be 100 to 200 words long, or be no more than five or six sentences. But a good paragraph should not be measured in characters, words, or sentences. The true measure of your paragraphs should be ideas.\",\n",
    "    \"Paragraphs are units of thought with one adequately developed idea. Listed here are some rules of thumb to use when paragraphing. As your writing improves, you'll be able to break these 'rules' to meet your own needs. Until then, these suggestions can be helpful.\",\n",
    "]"
   ]
  },
  {
   "cell_type": "code",
   "execution_count": 3,
   "metadata": {},
   "outputs": [],
   "source": [
    "async def post(text, url, session):\n",
    "    try:\n",
    "        async with session.post(url=url, json={'text': text}) as response:\n",
    "            resp = await response.json()\n",
    "            print(resp['french']['translation_text'])\n",
    "    except Exception as e:\n",
    "        print(f\"Unable to receive response due to {e}\")\n",
    "\n",
    "async def main(texts):\n",
    "    async with aiohttp.ClientSession() as session:\n",
    "        ret = await asyncio.gather(*[post(text, URL, session) for text in texts])"
   ]
  },
  {
   "cell_type": "code",
   "execution_count": 12,
   "metadata": {},
   "outputs": [
    {
     "name": "stdout",
     "output_type": "stream",
     "text": [
      "Il s'agit d'un test du modèle traduit.\n",
      "Divers éducateurs enseignent des règles régissant la longueur des paragraphes : ils peuvent dire qu'un paragraphe devrait être de 100 à 200 mots ou ne devrait pas être plus de cinq ou six phrases, mais qu'un bon paragraphe ne devrait pas être mesuré en caractères, en mots ou en phrases.\n",
      "Les paragraphes sont des unités de pensée qui ont une idée bien développée. Voici quelques règles de thumb à utiliser lorsqu'il s'agit de paragraphes.  mesure que votre rédaction s'améliore, vous pourrez rompre ces « règles » pour répondre à vos propres besoins.\n",
      "Time taken: 3.3897440433502197\n"
     ]
    }
   ],
   "source": [
    "start = time.time()\n",
    "await main(texts_to_test)\n",
    "end = time.time()\n",
    "\n",
    "print(f\"Time taken: {end - start}\")"
   ]
  }
 ],
 "metadata": {
  "interpreter": {
   "hash": "b069f7399831e14efc38fba455c3f3777cad35a2936661e1c82bafbf5a7d403a"
  },
  "kernelspec": {
   "display_name": "Python 3.10.4 64-bit",
   "language": "python",
   "name": "python3"
  },
  "language_info": {
   "codemirror_mode": {
    "name": "ipython",
    "version": 3
   },
   "file_extension": ".py",
   "mimetype": "text/x-python",
   "name": "python",
   "nbconvert_exporter": "python",
   "pygments_lexer": "ipython3",
   "version": "3.10.4"
  },
  "orig_nbformat": 4
 },
 "nbformat": 4,
 "nbformat_minor": 2
}
